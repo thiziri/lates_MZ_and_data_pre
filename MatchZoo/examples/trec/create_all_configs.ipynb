{
 "cells": [
  {
   "cell_type": "code",
   "execution_count": 4,
   "metadata": {
    "collapsed": true
   },
   "outputs": [],
   "source": [
    "import json\n",
    "\n",
    "basic = \"/home/thiziri/Documents/DOCTORAT/SOFT/MatchZoo_latest/MatchZoo/examples/trec/config/contextual/accnnm_basic_config.config\"\n",
    "weights = \"/projets/iris/PROJETS/WEIR/code/3rdYear/MatchZoo_latest/MatchZoo/examples/trec/weights/concatenated/ammm_p5\"\n",
    "data = \"/projets/iris/PROJETS/WEIR/data/passages_ranking_indri/Robust/MZ_data/concatenated/5/fold_0\"\n",
    "predictions = \"/projets/iris/PROJETS/WEIR/code/3rdYear/MatchZoo_latest/MatchZoo/examples/trec/predictions/concatenated/ACCNNM/5/ammm_p5\"\n",
    "\n",
    "output = \"/home/thiziri/Documents/DOCTORAT/OSIRIM/projets/iris/PROJETS/WEIR/code/3rdYear/MatchZoo_latest/MatchZoo/examples/trec/config/passages_ranking/concatenated/5/ammm/fold_0\""
   ]
  },
  {
   "cell_type": "code",
   "execution_count": 5,
   "metadata": {},
   "outputs": [
    {
     "data": {
      "text/plain": [
       "{'display_interval': 10,\n 'learning_rate': 0.1,\n 'model_type': 'PY',\n 'num_iters': 600,\n 'optimizer': 'adam',\n 'save_weights_iters': 50,\n 'test_weights_iters': 600,\n 'weights_file': '/projets/iris/PROJETS/WEIR/code/3rdYear/MatchZoo_latest/MatchZoo/examples/trec/weights/concatenated/ammm_p5/accnnm_letor_ranking<model>.weights'}"
      ]
     },
     "execution_count": 5,
     "metadata": {},
     "output_type": "execute_result"
    }
   ],
   "source": [
    "basic_config_s = open(basic, 'r').read()\n",
    "basic_config_s = basic_config_s.replace(\"<weight_path>\", weights).replace(\"<data_path>\", data).replace(\"<predict_path>\", \n",
    "                                                                                                       predictions)\n",
    "basic_config = json.loads(basic_config_s)\n",
    "basic_config[\"global\"]"
   ]
  },
  {
   "cell_type": "code",
   "execution_count": 15,
   "metadata": {},
   "outputs": [
    {
     "name": "stdout",
     "output_type": "stream",
     "text": [
      "To variate: 11\n"
     ]
    }
   ],
   "source": [
    "context_num = [5, 10, 20]\n",
    "context_len = [basic_config[\"inputs\"][\"share\"][\"context_len\"]]\n",
    "context_embed = [10, 20, 40]\n",
    "conv_dropout_rate = [0.0, 0.2]\n",
    "lstm_dropout_rate = [0.0, 0.2]\n",
    "pool_size = [1, 2, 3]\n",
    "text1_attention = [True, False]\n",
    "text2_attention = [True, False]\n",
    "per_context = [True]\n",
    "context_attention = [True, False]\n",
    "merge_levels = [True, False]\n",
    "parameters = [context_num, context_len, context_embed, conv_dropout_rate, lstm_dropout_rate, pool_size, text1_attention, \n",
    "              text2_attention, per_context, context_attention, merge_levels]\n",
    "print(\"To variate: %d\" % len(parameters))"
   ]
  },
  {
   "cell_type": "code",
   "execution_count": 16,
   "metadata": {},
   "outputs": [
    {
     "name": "stdout",
     "output_type": "stream",
     "text": [
      "1728 possible configurations.\nExample: (5, 5, 10, 0.0, 0.0, 1, True, True, True, True, True)\n0 invalid combinations. \n1728 valid combinations. \n"
     ]
    }
   ],
   "source": [
    "import itertools\n",
    "\n",
    "combinations = [c for c in itertools.product(*parameters)]\n",
    "print(\"%d possible configurations.\\nExample: %s\" % (len(combinations), str(combinations[0])))\n",
    "\n",
    "to_eliminate = [] # [c for c in combinations if c[7] is False and c[8]]\n",
    "print(\"%d invalid combinations. \" % len(to_eliminate))\n",
    "\n",
    "final_combinations = [c for c in combinations if c not in to_eliminate]\n",
    "print(\"%d valid combinations. \" % len(final_combinations))"
   ]
  },
  {
   "cell_type": "code",
   "execution_count": 17,
   "metadata": {
    "collapsed": false
   },
   "outputs": [
    {
     "name": "stderr",
     "output_type": "stream",
     "text": [
      "\r  0%|          | 0/1728 [00:00<?, ?it/s]"
     ]
    },
    {
     "name": "stderr",
     "output_type": "stream",
     "text": [
      "\r  0%|          | 4/1728 [00:00<00:47, 36.06it/s]"
     ]
    },
    {
     "name": "stderr",
     "output_type": "stream",
     "text": [
      "\r  0%|          | 7/1728 [00:00<01:08, 25.06it/s]"
     ]
    },
    {
     "name": "stderr",
     "output_type": "stream",
     "text": [
      "\r  1%|          | 16/1728 [00:00<00:41, 41.44it/s]"
     ]
    },
    {
     "name": "stderr",
     "output_type": "stream",
     "text": [
      "\r  1%|▏         | 25/1728 [00:00<00:33, 50.33it/s]"
     ]
    },
    {
     "name": "stderr",
     "output_type": "stream",
     "text": [
      "\r  2%|▏         | 33/1728 [00:00<00:30, 55.29it/s]"
     ]
    },
    {
     "name": "stderr",
     "output_type": "stream",
     "text": [
      "\r  2%|▏         | 41/1728 [00:00<00:28, 58.68it/s]"
     ]
    },
    {
     "name": "stderr",
     "output_type": "stream",
     "text": [
      "\r  3%|▎         | 49/1728 [00:00<00:27, 60.90it/s]"
     ]
    },
    {
     "name": "stderr",
     "output_type": "stream",
     "text": [
      "\r  3%|▎         | 56/1728 [00:00<00:27, 61.78it/s]"
     ]
    },
    {
     "name": "stderr",
     "output_type": "stream",
     "text": [
      "\r  4%|▎         | 63/1728 [00:01<00:26, 61.80it/s]"
     ]
    },
    {
     "name": "stderr",
     "output_type": "stream",
     "text": [
      "\r  4%|▍         | 70/1728 [00:01<00:26, 61.50it/s]"
     ]
    },
    {
     "name": "stderr",
     "output_type": "stream",
     "text": [
      "\r  4%|▍         | 77/1728 [00:01<00:26, 61.79it/s]"
     ]
    },
    {
     "name": "stderr",
     "output_type": "stream",
     "text": [
      "\r  5%|▍         | 85/1728 [00:01<00:26, 62.96it/s]"
     ]
    },
    {
     "name": "stderr",
     "output_type": "stream",
     "text": [
      "\r  5%|▌         | 94/1728 [00:01<00:25, 64.58it/s]"
     ]
    },
    {
     "name": "stderr",
     "output_type": "stream",
     "text": [
      "\r  6%|▌         | 103/1728 [00:01<00:24, 65.78it/s]"
     ]
    },
    {
     "name": "stderr",
     "output_type": "stream",
     "text": [
      "\r  6%|▋         | 112/1728 [00:01<00:24, 66.88it/s]"
     ]
    },
    {
     "name": "stderr",
     "output_type": "stream",
     "text": [
      "\r  7%|▋         | 120/1728 [00:01<00:24, 66.85it/s]"
     ]
    },
    {
     "name": "stderr",
     "output_type": "stream",
     "text": [
      "\r  7%|▋         | 128/1728 [00:01<00:23, 67.01it/s]"
     ]
    },
    {
     "name": "stderr",
     "output_type": "stream",
     "text": [
      "\r  8%|▊         | 136/1728 [00:02<00:23, 67.17it/s]"
     ]
    },
    {
     "name": "stderr",
     "output_type": "stream",
     "text": [
      "\r  8%|▊         | 144/1728 [00:02<00:23, 66.83it/s]"
     ]
    },
    {
     "name": "stderr",
     "output_type": "stream",
     "text": [
      "\r  9%|▉         | 152/1728 [00:02<00:23, 67.02it/s]"
     ]
    },
    {
     "name": "stderr",
     "output_type": "stream",
     "text": [
      "\r  9%|▉         | 159/1728 [00:02<00:23, 67.06it/s]"
     ]
    },
    {
     "name": "stderr",
     "output_type": "stream",
     "text": [
      "\r 10%|▉         | 166/1728 [00:02<00:23, 66.83it/s]"
     ]
    },
    {
     "name": "stderr",
     "output_type": "stream",
     "text": [
      "\r 10%|█         | 173/1728 [00:02<00:23, 66.50it/s]"
     ]
    },
    {
     "name": "stderr",
     "output_type": "stream",
     "text": [
      "\r 10%|█         | 180/1728 [00:02<00:23, 65.81it/s]"
     ]
    },
    {
     "name": "stderr",
     "output_type": "stream",
     "text": [
      "\r 11%|█         | 187/1728 [00:02<00:23, 65.42it/s]"
     ]
    },
    {
     "name": "stderr",
     "output_type": "stream",
     "text": [
      "\r 11%|█         | 193/1728 [00:02<00:23, 65.23it/s]"
     ]
    },
    {
     "name": "stderr",
     "output_type": "stream",
     "text": [
      "\r 12%|█▏        | 200/1728 [00:03<00:23, 65.25it/s]"
     ]
    },
    {
     "name": "stderr",
     "output_type": "stream",
     "text": [
      "\r 12%|█▏        | 207/1728 [00:03<00:23, 65.02it/s]"
     ]
    },
    {
     "name": "stderr",
     "output_type": "stream",
     "text": [
      "\r 12%|█▏        | 214/1728 [00:03<00:23, 64.99it/s]"
     ]
    },
    {
     "name": "stderr",
     "output_type": "stream",
     "text": [
      "\r 13%|█▎        | 221/1728 [00:03<00:23, 65.12it/s]"
     ]
    },
    {
     "name": "stderr",
     "output_type": "stream",
     "text": [
      "\r 13%|█▎        | 228/1728 [00:03<00:23, 65.00it/s]"
     ]
    },
    {
     "name": "stderr",
     "output_type": "stream",
     "text": [
      "\r 14%|█▎        | 235/1728 [00:03<00:22, 65.06it/s]"
     ]
    },
    {
     "name": "stderr",
     "output_type": "stream",
     "text": [
      "\r 14%|█▍        | 242/1728 [00:03<00:22, 65.04it/s]"
     ]
    },
    {
     "name": "stderr",
     "output_type": "stream",
     "text": [
      "\r 14%|█▍        | 249/1728 [00:03<00:22, 65.12it/s]"
     ]
    },
    {
     "name": "stderr",
     "output_type": "stream",
     "text": [
      "\r 15%|█▍        | 256/1728 [00:03<00:22, 65.05it/s]"
     ]
    },
    {
     "name": "stderr",
     "output_type": "stream",
     "text": [
      "\r 15%|█▌        | 263/1728 [00:04<00:22, 65.10it/s]"
     ]
    },
    {
     "name": "stderr",
     "output_type": "stream",
     "text": [
      "\r 16%|█▌        | 271/1728 [00:04<00:22, 65.37it/s]"
     ]
    },
    {
     "name": "stderr",
     "output_type": "stream",
     "text": [
      "\r 16%|█▌        | 279/1728 [00:04<00:22, 65.60it/s]"
     ]
    },
    {
     "name": "stderr",
     "output_type": "stream",
     "text": [
      "\r 17%|█▋        | 287/1728 [00:04<00:22, 65.43it/s]"
     ]
    },
    {
     "name": "stderr",
     "output_type": "stream",
     "text": [
      "\r 17%|█▋        | 294/1728 [00:04<00:22, 65.11it/s]"
     ]
    },
    {
     "name": "stderr",
     "output_type": "stream",
     "text": [
      "\r 17%|█▋        | 301/1728 [00:04<00:21, 65.02it/s]"
     ]
    },
    {
     "name": "stderr",
     "output_type": "stream",
     "text": [
      "\r 18%|█▊        | 308/1728 [00:04<00:21, 64.93it/s]"
     ]
    },
    {
     "name": "stderr",
     "output_type": "stream",
     "text": [
      "\r 18%|█▊        | 315/1728 [00:04<00:21, 64.93it/s]"
     ]
    },
    {
     "name": "stderr",
     "output_type": "stream",
     "text": [
      "\r 19%|█▊        | 322/1728 [00:04<00:21, 64.98it/s]"
     ]
    },
    {
     "name": "stderr",
     "output_type": "stream",
     "text": [
      "\r 19%|█▉        | 330/1728 [00:05<00:21, 65.12it/s]"
     ]
    },
    {
     "name": "stderr",
     "output_type": "stream",
     "text": [
      "\r 20%|█▉        | 337/1728 [00:05<00:21, 65.06it/s]"
     ]
    },
    {
     "name": "stderr",
     "output_type": "stream",
     "text": [
      "\r 20%|█▉        | 344/1728 [00:05<00:21, 65.12it/s]"
     ]
    },
    {
     "name": "stderr",
     "output_type": "stream",
     "text": [
      "\r 20%|██        | 351/1728 [00:05<00:21, 65.04it/s]"
     ]
    },
    {
     "name": "stderr",
     "output_type": "stream",
     "text": [
      "\r 21%|██        | 358/1728 [00:05<00:21, 65.06it/s]"
     ]
    },
    {
     "name": "stderr",
     "output_type": "stream",
     "text": [
      "\r 21%|██        | 365/1728 [00:05<00:20, 65.14it/s]"
     ]
    },
    {
     "name": "stderr",
     "output_type": "stream",
     "text": [
      "\r 22%|██▏       | 372/1728 [00:05<00:20, 65.18it/s]"
     ]
    },
    {
     "name": "stderr",
     "output_type": "stream",
     "text": [
      "\r 22%|██▏       | 379/1728 [00:05<00:20, 65.17it/s]"
     ]
    },
    {
     "name": "stderr",
     "output_type": "stream",
     "text": [
      "\r 22%|██▏       | 386/1728 [00:05<00:20, 65.21it/s]"
     ]
    },
    {
     "name": "stderr",
     "output_type": "stream",
     "text": [
      "\r 23%|██▎       | 393/1728 [00:06<00:20, 65.26it/s]"
     ]
    },
    {
     "name": "stderr",
     "output_type": "stream",
     "text": [
      "\r 23%|██▎       | 400/1728 [00:06<00:20, 65.29it/s]"
     ]
    },
    {
     "name": "stderr",
     "output_type": "stream",
     "text": [
      "\r 24%|██▎       | 407/1728 [00:06<00:20, 65.31it/s]"
     ]
    },
    {
     "name": "stderr",
     "output_type": "stream",
     "text": [
      "\r 24%|██▍       | 414/1728 [00:06<00:20, 64.79it/s]"
     ]
    },
    {
     "name": "stderr",
     "output_type": "stream",
     "text": [
      "\r 24%|██▍       | 421/1728 [00:06<00:20, 64.58it/s]"
     ]
    },
    {
     "name": "stderr",
     "output_type": "stream",
     "text": [
      "\r 25%|██▍       | 428/1728 [00:06<00:20, 64.65it/s]"
     ]
    },
    {
     "name": "stderr",
     "output_type": "stream",
     "text": [
      "\r 25%|██▌       | 435/1728 [00:06<00:19, 64.66it/s]"
     ]
    },
    {
     "name": "stderr",
     "output_type": "stream",
     "text": [
      "\r 26%|██▌       | 442/1728 [00:06<00:19, 64.62it/s]"
     ]
    },
    {
     "name": "stderr",
     "output_type": "stream",
     "text": [
      "\r 26%|██▌       | 449/1728 [00:06<00:19, 64.62it/s]"
     ]
    },
    {
     "name": "stderr",
     "output_type": "stream",
     "text": [
      "\r 26%|██▋       | 456/1728 [00:07<00:19, 64.56it/s]"
     ]
    },
    {
     "name": "stderr",
     "output_type": "stream",
     "text": [
      "\r 27%|██▋       | 463/1728 [00:07<00:19, 64.49it/s]"
     ]
    },
    {
     "name": "stderr",
     "output_type": "stream",
     "text": [
      "\r 27%|██▋       | 470/1728 [00:07<00:19, 64.34it/s]"
     ]
    },
    {
     "name": "stderr",
     "output_type": "stream",
     "text": [
      "\r 28%|██▊       | 477/1728 [00:07<00:19, 64.28it/s]"
     ]
    },
    {
     "name": "stderr",
     "output_type": "stream",
     "text": [
      "\r 28%|██▊       | 484/1728 [00:07<00:19, 64.33it/s]"
     ]
    },
    {
     "name": "stderr",
     "output_type": "stream",
     "text": [
      "\r 28%|██▊       | 491/1728 [00:07<00:19, 64.36it/s]"
     ]
    },
    {
     "name": "stderr",
     "output_type": "stream",
     "text": [
      "\r 29%|██▉       | 498/1728 [00:07<00:19, 64.40it/s]"
     ]
    },
    {
     "name": "stderr",
     "output_type": "stream",
     "text": [
      "\r 29%|██▉       | 505/1728 [00:07<00:19, 64.28it/s]"
     ]
    },
    {
     "name": "stderr",
     "output_type": "stream",
     "text": [
      "\r 30%|██▉       | 512/1728 [00:07<00:18, 64.24it/s]"
     ]
    },
    {
     "name": "stderr",
     "output_type": "stream",
     "text": [
      "\r 30%|███       | 519/1728 [00:08<00:18, 64.11it/s]"
     ]
    },
    {
     "name": "stderr",
     "output_type": "stream",
     "text": [
      "\r 30%|███       | 526/1728 [00:08<00:18, 64.10it/s]"
     ]
    },
    {
     "name": "stderr",
     "output_type": "stream",
     "text": [
      "\r 31%|███       | 533/1728 [00:08<00:18, 64.10it/s]"
     ]
    },
    {
     "name": "stderr",
     "output_type": "stream",
     "text": [
      "\r 31%|███▏      | 540/1728 [00:08<00:18, 64.06it/s]"
     ]
    },
    {
     "name": "stderr",
     "output_type": "stream",
     "text": [
      "\r 32%|███▏      | 547/1728 [00:08<00:18, 63.99it/s]"
     ]
    },
    {
     "name": "stderr",
     "output_type": "stream",
     "text": [
      "\r 32%|███▏      | 554/1728 [00:08<00:18, 63.95it/s]"
     ]
    },
    {
     "name": "stderr",
     "output_type": "stream",
     "text": [
      "\r 32%|███▏      | 561/1728 [00:08<00:18, 63.99it/s]"
     ]
    },
    {
     "name": "stderr",
     "output_type": "stream",
     "text": [
      "\r 33%|███▎      | 568/1728 [00:08<00:18, 63.98it/s]"
     ]
    },
    {
     "name": "stderr",
     "output_type": "stream",
     "text": [
      "\r 33%|███▎      | 575/1728 [00:08<00:18, 64.00it/s]"
     ]
    },
    {
     "name": "stderr",
     "output_type": "stream",
     "text": [
      "\r 34%|███▎      | 582/1728 [00:09<00:17, 64.06it/s]"
     ]
    },
    {
     "name": "stderr",
     "output_type": "stream",
     "text": [
      "\r 34%|███▍      | 589/1728 [00:09<00:17, 64.10it/s]"
     ]
    },
    {
     "name": "stderr",
     "output_type": "stream",
     "text": [
      "\r 35%|███▍      | 597/1728 [00:09<00:17, 64.18it/s]"
     ]
    },
    {
     "name": "stderr",
     "output_type": "stream",
     "text": [
      "\r 35%|███▍      | 604/1728 [00:09<00:17, 64.23it/s]"
     ]
    },
    {
     "name": "stderr",
     "output_type": "stream",
     "text": [
      "\r 35%|███▌      | 611/1728 [00:09<00:17, 64.18it/s]"
     ]
    },
    {
     "name": "stderr",
     "output_type": "stream",
     "text": [
      "\r 36%|███▌      | 618/1728 [00:09<00:17, 63.98it/s]"
     ]
    },
    {
     "name": "stderr",
     "output_type": "stream",
     "text": [
      "\r 36%|███▌      | 625/1728 [00:09<00:17, 63.87it/s]"
     ]
    },
    {
     "name": "stderr",
     "output_type": "stream",
     "text": [
      "\r 37%|███▋      | 632/1728 [00:09<00:17, 63.83it/s]"
     ]
    },
    {
     "name": "stderr",
     "output_type": "stream",
     "text": [
      "\r 37%|███▋      | 639/1728 [00:10<00:17, 63.81it/s]"
     ]
    },
    {
     "name": "stderr",
     "output_type": "stream",
     "text": [
      "\r 37%|███▋      | 647/1728 [00:10<00:16, 63.88it/s]"
     ]
    },
    {
     "name": "stderr",
     "output_type": "stream",
     "text": [
      "\r 38%|███▊      | 654/1728 [00:10<00:16, 63.91it/s]"
     ]
    },
    {
     "name": "stderr",
     "output_type": "stream",
     "text": [
      "\r 38%|███▊      | 661/1728 [00:10<00:16, 63.95it/s]"
     ]
    },
    {
     "name": "stderr",
     "output_type": "stream",
     "text": [
      "\r 39%|███▊      | 668/1728 [00:10<00:16, 63.97it/s]"
     ]
    },
    {
     "name": "stderr",
     "output_type": "stream",
     "text": [
      "\r 39%|███▉      | 676/1728 [00:10<00:16, 64.04it/s]"
     ]
    },
    {
     "name": "stderr",
     "output_type": "stream",
     "text": [
      "\r 40%|███▉      | 683/1728 [00:10<00:16, 64.06it/s]"
     ]
    },
    {
     "name": "stderr",
     "output_type": "stream",
     "text": [
      "\r 40%|███▉      | 690/1728 [00:10<00:16, 64.10it/s]"
     ]
    },
    {
     "name": "stderr",
     "output_type": "stream",
     "text": [
      "\r 40%|████      | 697/1728 [00:10<00:16, 64.08it/s]"
     ]
    },
    {
     "name": "stderr",
     "output_type": "stream",
     "text": [
      "\r 41%|████      | 705/1728 [00:10<00:15, 64.13it/s]"
     ]
    },
    {
     "name": "stderr",
     "output_type": "stream",
     "text": [
      "\r 41%|████      | 712/1728 [00:11<00:15, 64.15it/s]"
     ]
    },
    {
     "name": "stderr",
     "output_type": "stream",
     "text": [
      "\r 42%|████▏     | 719/1728 [00:11<00:15, 64.18it/s]"
     ]
    },
    {
     "name": "stderr",
     "output_type": "stream",
     "text": [
      "\r 42%|████▏     | 726/1728 [00:11<00:15, 64.21it/s]"
     ]
    },
    {
     "name": "stderr",
     "output_type": "stream",
     "text": [
      "\r 42%|████▏     | 733/1728 [00:11<00:15, 64.16it/s]"
     ]
    },
    {
     "name": "stderr",
     "output_type": "stream",
     "text": [
      "\r 43%|████▎     | 740/1728 [00:11<00:15, 64.20it/s]"
     ]
    },
    {
     "name": "stderr",
     "output_type": "stream",
     "text": [
      "\r 43%|████▎     | 747/1728 [00:11<00:15, 64.19it/s]"
     ]
    },
    {
     "name": "stderr",
     "output_type": "stream",
     "text": [
      "\r 44%|████▎     | 754/1728 [00:11<00:15, 64.17it/s]"
     ]
    },
    {
     "name": "stderr",
     "output_type": "stream",
     "text": [
      "\r 44%|████▍     | 761/1728 [00:11<00:15, 64.15it/s]"
     ]
    },
    {
     "name": "stderr",
     "output_type": "stream",
     "text": [
      "\r 44%|████▍     | 768/1728 [00:11<00:14, 64.17it/s]"
     ]
    },
    {
     "name": "stderr",
     "output_type": "stream",
     "text": [
      "\r 45%|████▍     | 775/1728 [00:12<00:14, 64.16it/s]"
     ]
    },
    {
     "name": "stderr",
     "output_type": "stream",
     "text": [
      "\r 45%|████▌     | 782/1728 [00:12<00:14, 64.17it/s]"
     ]
    },
    {
     "name": "stderr",
     "output_type": "stream",
     "text": [
      "\r 46%|████▌     | 789/1728 [00:12<00:14, 64.18it/s]"
     ]
    },
    {
     "name": "stderr",
     "output_type": "stream",
     "text": [
      "\r 46%|████▌     | 796/1728 [00:12<00:14, 64.07it/s]"
     ]
    },
    {
     "name": "stderr",
     "output_type": "stream",
     "text": [
      "\r 46%|████▋     | 803/1728 [00:12<00:14, 64.02it/s]"
     ]
    },
    {
     "name": "stderr",
     "output_type": "stream",
     "text": [
      "\r 47%|████▋     | 810/1728 [00:12<00:14, 64.01it/s]"
     ]
    },
    {
     "name": "stderr",
     "output_type": "stream",
     "text": [
      "\r 47%|████▋     | 817/1728 [00:12<00:14, 64.02it/s]"
     ]
    },
    {
     "name": "stderr",
     "output_type": "stream",
     "text": [
      "\r 48%|████▊     | 824/1728 [00:12<00:14, 64.03it/s]"
     ]
    },
    {
     "name": "stderr",
     "output_type": "stream",
     "text": [
      "\r 48%|████▊     | 832/1728 [00:12<00:13, 64.09it/s]"
     ]
    },
    {
     "name": "stderr",
     "output_type": "stream",
     "text": [
      "\r 49%|████▊     | 839/1728 [00:13<00:13, 64.12it/s]"
     ]
    },
    {
     "name": "stderr",
     "output_type": "stream",
     "text": [
      "\r 49%|████▉     | 846/1728 [00:13<00:13, 64.11it/s]"
     ]
    },
    {
     "name": "stderr",
     "output_type": "stream",
     "text": [
      "\r 49%|████▉     | 853/1728 [00:13<00:13, 64.13it/s]"
     ]
    },
    {
     "name": "stderr",
     "output_type": "stream",
     "text": [
      "\r 50%|████▉     | 860/1728 [00:13<00:13, 64.15it/s]"
     ]
    },
    {
     "name": "stderr",
     "output_type": "stream",
     "text": [
      "\r 50%|█████     | 867/1728 [00:13<00:13, 64.14it/s]"
     ]
    },
    {
     "name": "stderr",
     "output_type": "stream",
     "text": [
      "\r 51%|█████     | 874/1728 [00:13<00:13, 64.14it/s]"
     ]
    },
    {
     "name": "stderr",
     "output_type": "stream",
     "text": [
      "\r 51%|█████     | 881/1728 [00:13<00:13, 64.16it/s]"
     ]
    },
    {
     "name": "stderr",
     "output_type": "stream",
     "text": [
      "\r 51%|█████▏    | 888/1728 [00:13<00:13, 64.19it/s]"
     ]
    },
    {
     "name": "stderr",
     "output_type": "stream",
     "text": [
      "\r 52%|█████▏    | 895/1728 [00:13<00:12, 64.21it/s]"
     ]
    },
    {
     "name": "stderr",
     "output_type": "stream",
     "text": [
      "\r 52%|█████▏    | 902/1728 [00:14<00:12, 64.22it/s]"
     ]
    },
    {
     "name": "stderr",
     "output_type": "stream",
     "text": [
      "\r 53%|█████▎    | 909/1728 [00:14<00:12, 64.21it/s]"
     ]
    },
    {
     "name": "stderr",
     "output_type": "stream",
     "text": [
      "\r 53%|█████▎    | 916/1728 [00:14<00:12, 64.22it/s]"
     ]
    },
    {
     "name": "stderr",
     "output_type": "stream",
     "text": [
      "\r 53%|█████▎    | 923/1728 [00:14<00:12, 64.22it/s]"
     ]
    },
    {
     "name": "stderr",
     "output_type": "stream",
     "text": [
      "\r 54%|█████▍    | 930/1728 [00:14<00:12, 64.24it/s]"
     ]
    },
    {
     "name": "stderr",
     "output_type": "stream",
     "text": [
      "\r 54%|█████▍    | 937/1728 [00:14<00:12, 64.27it/s]"
     ]
    },
    {
     "name": "stderr",
     "output_type": "stream",
     "text": [
      "\r 55%|█████▍    | 944/1728 [00:14<00:12, 64.31it/s]"
     ]
    },
    {
     "name": "stderr",
     "output_type": "stream",
     "text": [
      "\r 55%|█████▌    | 951/1728 [00:14<00:12, 64.30it/s]"
     ]
    },
    {
     "name": "stderr",
     "output_type": "stream",
     "text": [
      "\r 55%|█████▌    | 958/1728 [00:14<00:11, 64.33it/s]"
     ]
    },
    {
     "name": "stderr",
     "output_type": "stream",
     "text": [
      "\r 56%|█████▌    | 965/1728 [00:14<00:11, 64.36it/s]"
     ]
    },
    {
     "name": "stderr",
     "output_type": "stream",
     "text": [
      "\r 56%|█████▋    | 972/1728 [00:15<00:11, 64.37it/s]"
     ]
    },
    {
     "name": "stderr",
     "output_type": "stream",
     "text": [
      "\r 57%|█████▋    | 979/1728 [00:15<00:11, 64.39it/s]"
     ]
    },
    {
     "name": "stderr",
     "output_type": "stream",
     "text": [
      "\r 57%|█████▋    | 986/1728 [00:15<00:11, 64.33it/s]"
     ]
    },
    {
     "name": "stderr",
     "output_type": "stream",
     "text": [
      "\r 57%|█████▋    | 993/1728 [00:15<00:11, 64.32it/s]"
     ]
    },
    {
     "name": "stderr",
     "output_type": "stream",
     "text": [
      "\r 58%|█████▊    | 1000/1728 [00:15<00:11, 64.35it/s]"
     ]
    },
    {
     "name": "stderr",
     "output_type": "stream",
     "text": [
      "\r 58%|█████▊    | 1008/1728 [00:15<00:11, 64.40it/s]"
     ]
    },
    {
     "name": "stderr",
     "output_type": "stream",
     "text": [
      "\r 59%|█████▉    | 1016/1728 [00:15<00:11, 64.43it/s]"
     ]
    },
    {
     "name": "stderr",
     "output_type": "stream",
     "text": [
      "\r 59%|█████▉    | 1024/1728 [00:15<00:10, 64.49it/s]"
     ]
    },
    {
     "name": "stderr",
     "output_type": "stream",
     "text": [
      "\r 60%|█████▉    | 1031/1728 [00:15<00:10, 64.52it/s]"
     ]
    },
    {
     "name": "stderr",
     "output_type": "stream",
     "text": [
      "\r 60%|██████    | 1038/1728 [00:16<00:10, 64.55it/s]"
     ]
    },
    {
     "name": "stderr",
     "output_type": "stream",
     "text": [
      "\r 60%|██████    | 1045/1728 [00:16<00:10, 64.57it/s]"
     ]
    },
    {
     "name": "stderr",
     "output_type": "stream",
     "text": [
      "\r 61%|██████    | 1052/1728 [00:16<00:10, 64.53it/s]"
     ]
    },
    {
     "name": "stderr",
     "output_type": "stream",
     "text": [
      "\r 61%|██████▏   | 1059/1728 [00:16<00:10, 64.51it/s]"
     ]
    },
    {
     "name": "stderr",
     "output_type": "stream",
     "text": [
      "\r 62%|██████▏   | 1066/1728 [00:16<00:10, 64.47it/s]"
     ]
    },
    {
     "name": "stderr",
     "output_type": "stream",
     "text": [
      "\r 62%|██████▏   | 1073/1728 [00:16<00:10, 64.49it/s]"
     ]
    },
    {
     "name": "stderr",
     "output_type": "stream",
     "text": [
      "\r 62%|██████▎   | 1080/1728 [00:16<00:10, 64.47it/s]"
     ]
    },
    {
     "name": "stderr",
     "output_type": "stream",
     "text": [
      "\r 63%|██████▎   | 1087/1728 [00:16<00:09, 64.47it/s]"
     ]
    },
    {
     "name": "stderr",
     "output_type": "stream",
     "text": [
      "\r 63%|██████▎   | 1094/1728 [00:16<00:09, 64.44it/s]"
     ]
    },
    {
     "name": "stderr",
     "output_type": "stream",
     "text": [
      "\r 64%|██████▎   | 1101/1728 [00:17<00:09, 64.45it/s]"
     ]
    },
    {
     "name": "stderr",
     "output_type": "stream",
     "text": [
      "\r 64%|██████▍   | 1108/1728 [00:17<00:09, 64.40it/s]"
     ]
    },
    {
     "name": "stderr",
     "output_type": "stream",
     "text": [
      "\r 65%|██████▍   | 1115/1728 [00:17<00:09, 64.37it/s]"
     ]
    },
    {
     "name": "stderr",
     "output_type": "stream",
     "text": [
      "\r 65%|██████▍   | 1122/1728 [00:17<00:09, 64.32it/s]"
     ]
    },
    {
     "name": "stderr",
     "output_type": "stream",
     "text": [
      "\r 65%|██████▌   | 1129/1728 [00:17<00:09, 64.33it/s]"
     ]
    },
    {
     "name": "stderr",
     "output_type": "stream",
     "text": [
      "\r 66%|██████▌   | 1136/1728 [00:17<00:09, 64.31it/s]"
     ]
    },
    {
     "name": "stderr",
     "output_type": "stream",
     "text": [
      "\r 66%|██████▌   | 1143/1728 [00:17<00:09, 64.30it/s]"
     ]
    },
    {
     "name": "stderr",
     "output_type": "stream",
     "text": [
      "\r 67%|██████▋   | 1150/1728 [00:17<00:08, 64.29it/s]"
     ]
    },
    {
     "name": "stderr",
     "output_type": "stream",
     "text": [
      "\r 67%|██████▋   | 1157/1728 [00:17<00:08, 64.29it/s]"
     ]
    },
    {
     "name": "stderr",
     "output_type": "stream",
     "text": [
      "\r 67%|██████▋   | 1164/1728 [00:18<00:08, 64.26it/s]"
     ]
    },
    {
     "name": "stderr",
     "output_type": "stream",
     "text": [
      "\r 68%|██████▊   | 1171/1728 [00:18<00:08, 64.27it/s]"
     ]
    },
    {
     "name": "stderr",
     "output_type": "stream",
     "text": [
      "\r 68%|██████▊   | 1178/1728 [00:18<00:08, 64.28it/s]"
     ]
    },
    {
     "name": "stderr",
     "output_type": "stream",
     "text": [
      "\r 69%|██████▊   | 1185/1728 [00:18<00:08, 64.31it/s]"
     ]
    },
    {
     "name": "stderr",
     "output_type": "stream",
     "text": [
      "\r 69%|██████▉   | 1192/1728 [00:18<00:08, 64.28it/s]"
     ]
    },
    {
     "name": "stderr",
     "output_type": "stream",
     "text": [
      "\r 69%|██████▉   | 1199/1728 [00:18<00:08, 64.30it/s]"
     ]
    },
    {
     "name": "stderr",
     "output_type": "stream",
     "text": [
      "\r 70%|██████▉   | 1206/1728 [00:18<00:08, 64.32it/s]"
     ]
    },
    {
     "name": "stderr",
     "output_type": "stream",
     "text": [
      "\r 70%|███████   | 1213/1728 [00:18<00:08, 64.35it/s]"
     ]
    },
    {
     "name": "stderr",
     "output_type": "stream",
     "text": [
      "\r 71%|███████   | 1220/1728 [00:18<00:07, 64.36it/s]"
     ]
    },
    {
     "name": "stderr",
     "output_type": "stream",
     "text": [
      "\r 71%|███████   | 1227/1728 [00:19<00:07, 64.33it/s]"
     ]
    },
    {
     "name": "stderr",
     "output_type": "stream",
     "text": [
      "\r 71%|███████▏  | 1234/1728 [00:19<00:07, 64.35it/s]"
     ]
    },
    {
     "name": "stderr",
     "output_type": "stream",
     "text": [
      "\r 72%|███████▏  | 1241/1728 [00:19<00:07, 64.37it/s]"
     ]
    },
    {
     "name": "stderr",
     "output_type": "stream",
     "text": [
      "\r 72%|███████▏  | 1248/1728 [00:19<00:07, 64.38it/s]"
     ]
    },
    {
     "name": "stderr",
     "output_type": "stream",
     "text": [
      "\r 73%|███████▎  | 1255/1728 [00:19<00:07, 64.31it/s]"
     ]
    },
    {
     "name": "stderr",
     "output_type": "stream",
     "text": [
      "\r 73%|███████▎  | 1262/1728 [00:19<00:07, 64.33it/s]"
     ]
    },
    {
     "name": "stderr",
     "output_type": "stream",
     "text": [
      "\r 73%|███████▎  | 1269/1728 [00:19<00:07, 64.33it/s]"
     ]
    },
    {
     "name": "stderr",
     "output_type": "stream",
     "text": [
      "\r 74%|███████▍  | 1276/1728 [00:19<00:07, 64.33it/s]"
     ]
    },
    {
     "name": "stderr",
     "output_type": "stream",
     "text": [
      "\r 74%|███████▍  | 1283/1728 [00:19<00:06, 64.36it/s]"
     ]
    },
    {
     "name": "stderr",
     "output_type": "stream",
     "text": [
      "\r 75%|███████▍  | 1290/1728 [00:20<00:06, 64.38it/s]"
     ]
    },
    {
     "name": "stderr",
     "output_type": "stream",
     "text": [
      "\r 75%|███████▌  | 1297/1728 [00:20<00:06, 64.36it/s]"
     ]
    },
    {
     "name": "stderr",
     "output_type": "stream",
     "text": [
      "\r 76%|███████▌  | 1305/1728 [00:20<00:06, 64.41it/s]"
     ]
    },
    {
     "name": "stderr",
     "output_type": "stream",
     "text": [
      "\r 76%|███████▌  | 1312/1728 [00:20<00:06, 64.44it/s]"
     ]
    },
    {
     "name": "stderr",
     "output_type": "stream",
     "text": [
      "\r 76%|███████▋  | 1319/1728 [00:20<00:06, 64.46it/s]"
     ]
    },
    {
     "name": "stderr",
     "output_type": "stream",
     "text": [
      "\r 77%|███████▋  | 1327/1728 [00:20<00:06, 64.49it/s]"
     ]
    },
    {
     "name": "stderr",
     "output_type": "stream",
     "text": [
      "\r 77%|███████▋  | 1334/1728 [00:20<00:06, 64.49it/s]"
     ]
    },
    {
     "name": "stderr",
     "output_type": "stream",
     "text": [
      "\r 78%|███████▊  | 1341/1728 [00:20<00:06, 64.47it/s]"
     ]
    },
    {
     "name": "stderr",
     "output_type": "stream",
     "text": [
      "\r 78%|███████▊  | 1348/1728 [00:20<00:05, 64.41it/s]"
     ]
    },
    {
     "name": "stderr",
     "output_type": "stream",
     "text": [
      "\r 78%|███████▊  | 1355/1728 [00:21<00:05, 64.37it/s]"
     ]
    },
    {
     "name": "stderr",
     "output_type": "stream",
     "text": [
      "\r 79%|███████▉  | 1362/1728 [00:21<00:05, 64.37it/s]"
     ]
    },
    {
     "name": "stderr",
     "output_type": "stream",
     "text": [
      "\r 79%|███████▉  | 1369/1728 [00:21<00:05, 64.19it/s]"
     ]
    },
    {
     "name": "stderr",
     "output_type": "stream",
     "text": [
      "\r 80%|███████▉  | 1376/1728 [00:21<00:05, 64.19it/s]"
     ]
    },
    {
     "name": "stderr",
     "output_type": "stream",
     "text": [
      "\r 80%|████████  | 1383/1728 [00:21<00:05, 64.19it/s]"
     ]
    },
    {
     "name": "stderr",
     "output_type": "stream",
     "text": [
      "\r 80%|████████  | 1390/1728 [00:21<00:05, 64.21it/s]"
     ]
    },
    {
     "name": "stderr",
     "output_type": "stream",
     "text": [
      "\r 81%|████████  | 1398/1728 [00:21<00:05, 64.24it/s]"
     ]
    },
    {
     "name": "stderr",
     "output_type": "stream",
     "text": [
      "\r 81%|████████▏ | 1405/1728 [00:21<00:05, 64.26it/s]"
     ]
    },
    {
     "name": "stderr",
     "output_type": "stream",
     "text": [
      "\r 82%|████████▏ | 1412/1728 [00:21<00:04, 64.25it/s]"
     ]
    },
    {
     "name": "stderr",
     "output_type": "stream",
     "text": [
      "\r 82%|████████▏ | 1420/1728 [00:22<00:04, 64.32it/s]"
     ]
    },
    {
     "name": "stderr",
     "output_type": "stream",
     "text": [
      "\r 83%|████████▎ | 1429/1728 [00:22<00:04, 64.41it/s]"
     ]
    },
    {
     "name": "stderr",
     "output_type": "stream",
     "text": [
      "\r 83%|████████▎ | 1437/1728 [00:22<00:04, 64.45it/s]"
     ]
    },
    {
     "name": "stderr",
     "output_type": "stream",
     "text": [
      "\r 84%|████████▎ | 1445/1728 [00:22<00:04, 64.45it/s]"
     ]
    },
    {
     "name": "stderr",
     "output_type": "stream",
     "text": [
      "\r 84%|████████▍ | 1453/1728 [00:22<00:04, 64.47it/s]"
     ]
    },
    {
     "name": "stderr",
     "output_type": "stream",
     "text": [
      "\r 85%|████████▍ | 1461/1728 [00:22<00:04, 64.48it/s]"
     ]
    },
    {
     "name": "stderr",
     "output_type": "stream",
     "text": [
      "\r 85%|████████▍ | 1468/1728 [00:22<00:04, 64.47it/s]"
     ]
    },
    {
     "name": "stderr",
     "output_type": "stream",
     "text": [
      "\r 85%|████████▌ | 1475/1728 [00:22<00:03, 64.40it/s]"
     ]
    },
    {
     "name": "stderr",
     "output_type": "stream",
     "text": [
      "\r 86%|████████▌ | 1482/1728 [00:23<00:03, 64.38it/s]"
     ]
    },
    {
     "name": "stderr",
     "output_type": "stream",
     "text": [
      "\r 86%|████████▌ | 1489/1728 [00:23<00:03, 64.37it/s]"
     ]
    },
    {
     "name": "stderr",
     "output_type": "stream",
     "text": [
      "\r 87%|████████▋ | 1496/1728 [00:23<00:03, 64.36it/s]"
     ]
    },
    {
     "name": "stderr",
     "output_type": "stream",
     "text": [
      "\r 87%|████████▋ | 1503/1728 [00:23<00:03, 64.33it/s]"
     ]
    },
    {
     "name": "stderr",
     "output_type": "stream",
     "text": [
      "\r 87%|████████▋ | 1510/1728 [00:23<00:03, 64.32it/s]"
     ]
    },
    {
     "name": "stderr",
     "output_type": "stream",
     "text": [
      "\r 88%|████████▊ | 1517/1728 [00:23<00:03, 64.32it/s]"
     ]
    },
    {
     "name": "stderr",
     "output_type": "stream",
     "text": [
      "\r 88%|████████▊ | 1524/1728 [00:23<00:03, 64.34it/s]"
     ]
    },
    {
     "name": "stderr",
     "output_type": "stream",
     "text": [
      "\r 89%|████████▊ | 1531/1728 [00:23<00:03, 64.36it/s]"
     ]
    },
    {
     "name": "stderr",
     "output_type": "stream",
     "text": [
      "\r 89%|████████▉ | 1538/1728 [00:23<00:02, 64.33it/s]"
     ]
    },
    {
     "name": "stderr",
     "output_type": "stream",
     "text": [
      "\r 89%|████████▉ | 1545/1728 [00:24<00:02, 64.32it/s]"
     ]
    },
    {
     "name": "stderr",
     "output_type": "stream",
     "text": [
      "\r 90%|████████▉ | 1552/1728 [00:24<00:02, 64.32it/s]"
     ]
    },
    {
     "name": "stderr",
     "output_type": "stream",
     "text": [
      "\r 90%|█████████ | 1559/1728 [00:24<00:02, 64.26it/s]"
     ]
    },
    {
     "name": "stderr",
     "output_type": "stream",
     "text": [
      "\r 91%|█████████ | 1566/1728 [00:24<00:02, 64.28it/s]"
     ]
    },
    {
     "name": "stderr",
     "output_type": "stream",
     "text": [
      "\r 91%|█████████ | 1573/1728 [00:24<00:02, 64.29it/s]"
     ]
    },
    {
     "name": "stderr",
     "output_type": "stream",
     "text": [
      "\r 91%|█████████▏| 1580/1728 [00:24<00:02, 64.29it/s]"
     ]
    },
    {
     "name": "stderr",
     "output_type": "stream",
     "text": [
      "\r 92%|█████████▏| 1587/1728 [00:24<00:02, 64.23it/s]"
     ]
    },
    {
     "name": "stderr",
     "output_type": "stream",
     "text": [
      "\r 92%|█████████▏| 1594/1728 [00:24<00:02, 64.24it/s]"
     ]
    },
    {
     "name": "stderr",
     "output_type": "stream",
     "text": [
      "\r 93%|█████████▎| 1601/1728 [00:24<00:01, 64.25it/s]"
     ]
    },
    {
     "name": "stderr",
     "output_type": "stream",
     "text": [
      "\r 93%|█████████▎| 1608/1728 [00:25<00:01, 64.25it/s]"
     ]
    },
    {
     "name": "stderr",
     "output_type": "stream",
     "text": [
      "\r 94%|█████████▎| 1616/1728 [00:25<00:01, 64.28it/s]"
     ]
    },
    {
     "name": "stderr",
     "output_type": "stream",
     "text": [
      "\r 94%|█████████▍| 1623/1728 [00:25<00:01, 64.30it/s]"
     ]
    },
    {
     "name": "stderr",
     "output_type": "stream",
     "text": [
      "\r 94%|█████████▍| 1631/1728 [00:25<00:01, 64.33it/s]"
     ]
    },
    {
     "name": "stderr",
     "output_type": "stream",
     "text": [
      "\r 95%|█████████▍| 1638/1728 [00:25<00:01, 64.33it/s]"
     ]
    },
    {
     "name": "stderr",
     "output_type": "stream",
     "text": [
      "\r 95%|█████████▌| 1645/1728 [00:25<00:01, 64.33it/s]"
     ]
    },
    {
     "name": "stderr",
     "output_type": "stream",
     "text": [
      "\r 96%|█████████▌| 1652/1728 [00:25<00:01, 64.34it/s]"
     ]
    },
    {
     "name": "stderr",
     "output_type": "stream",
     "text": [
      "\r 96%|█████████▌| 1659/1728 [00:25<00:01, 64.36it/s]"
     ]
    },
    {
     "name": "stderr",
     "output_type": "stream",
     "text": [
      "\r 96%|█████████▋| 1666/1728 [00:25<00:00, 64.37it/s]"
     ]
    },
    {
     "name": "stderr",
     "output_type": "stream",
     "text": [
      "\r 97%|█████████▋| 1673/1728 [00:25<00:00, 64.37it/s]"
     ]
    },
    {
     "name": "stderr",
     "output_type": "stream",
     "text": [
      "\r 97%|█████████▋| 1680/1728 [00:26<00:00, 64.37it/s]"
     ]
    },
    {
     "name": "stderr",
     "output_type": "stream",
     "text": [
      "\r 98%|█████████▊| 1687/1728 [00:26<00:00, 64.38it/s]"
     ]
    },
    {
     "name": "stderr",
     "output_type": "stream",
     "text": [
      "\r 98%|█████████▊| 1694/1728 [00:26<00:00, 64.36it/s]"
     ]
    },
    {
     "name": "stderr",
     "output_type": "stream",
     "text": [
      "\r 98%|█████████▊| 1701/1728 [00:26<00:00, 64.33it/s]"
     ]
    },
    {
     "name": "stderr",
     "output_type": "stream",
     "text": [
      "\r 99%|█████████▉| 1708/1728 [00:26<00:00, 64.31it/s]"
     ]
    },
    {
     "name": "stderr",
     "output_type": "stream",
     "text": [
      "\r 99%|█████████▉| 1715/1728 [00:26<00:00, 64.29it/s]"
     ]
    },
    {
     "name": "stderr",
     "output_type": "stream",
     "text": [
      "\r100%|█████████▉| 1722/1728 [00:26<00:00, 64.26it/s]"
     ]
    },
    {
     "name": "stderr",
     "output_type": "stream",
     "text": [
      "\r100%|██████████| 1728/1728 [00:26<00:00, 64.26it/s]"
     ]
    },
    {
     "name": "stderr",
     "output_type": "stream",
     "text": [
      "\n"
     ]
    }
   ],
   "source": [
    "from tqdm import tqdm\n",
    "import os\n",
    "\n",
    "for c in tqdm(final_combinations):\n",
    "    config = basic_config.copy()\n",
    "    context_num, context_len, context_embed, conv_dropout_rate, lstm_dropout_rate, pool_size, if_attQ, if_attD, \\\n",
    "    if_per_context, if_context_attention, if_merge_levels = c\n",
    "    attQ = \"_attQ\" if if_attQ else ''\n",
    "    attD = \"_attD\" if if_attD else ''\n",
    "    granul = \"_perContext\" if if_per_context else \"_perWord\" if if_attD else ''\n",
    "    attContext = \"_attP\" if if_context_attention else ''\n",
    "    merge_wp = \"_mergeLevels\" if if_merge_levels else ''\n",
    "    model = \"_p\"+str(context_len)+\"_ctxtNum\"+str(context_num)+\"_ctxtEmb\"+str(context_embed)+\"_convDrop\" + \\\n",
    "            str(conv_dropout_rate)+\"_lstmDrop\"+str(lstm_dropout_rate)+\"_pool\"+str(pool_size)+attQ+attD+granul+\\\n",
    "            attContext + merge_wp\n",
    "    # print(model)\n",
    "    config[\"global\"][\"weights_file\"] = config[\"global\"][\"weights_file\"].replace(\"<model>\", model)\n",
    "    config[\"outputs\"][\"predict\"][\"save_path\"] = config[\"outputs\"][\"predict\"][\"save_path\"].replace(\"<model>\", model)\n",
    "    config[\"inputs\"][\"share\"][\"text2_maxlen\"] = context_num * context_len\n",
    "    config[\"inputs\"][\"share\"][\"context_num\"] = context_num\n",
    "    config[\"model\"][\"setting\"][\"context_embed\"] = context_embed\n",
    "    config[\"model\"][\"setting\"][\"conv_dropout_rate\"] = conv_dropout_rate\n",
    "    config[\"model\"][\"setting\"][\"lstm_dropout_rate\"] = lstm_dropout_rate\n",
    "    config[\"model\"][\"setting\"][\"pool_size\"] = pool_size\n",
    "    config[\"model\"][\"setting\"][\"text1_attention\"] = if_attQ\n",
    "    config[\"model\"][\"setting\"][\"text2_attention\"] = if_attD\n",
    "    config[\"model\"][\"setting\"][\"per_context\"] = if_per_context\n",
    "    config[\"model\"][\"setting\"][\"context_attention\"] = if_context_attention\n",
    "    config[\"model\"][\"setting\"][\"merge_levels\"] = if_merge_levels\n",
    "    with open(os.path.join(output, 'accnnm'+model+'.config'), 'w') as out:\n",
    "        out.write(json.dumps(config, indent=2))"
   ]
  },
  {
   "cell_type": "code",
   "execution_count": 19,
   "metadata": {
    "collapsed": false
   },
   "outputs": [
    {
     "name": "stdout",
     "output_type": "stream",
     "text": [
      "{\n  \"losses\": [\n    {\n      \"object_params\": {\n        \"margin\": 1.0\n      },\n      \"object_name\": \"rank_hinge_loss\"\n    }\n  ],\n  \"net_name\": \"accnnm\",\n  \"global\": {\n    \"test_weights_iters\": 600,\n    \"save_weights_iters\": 50,\n    \"weights_file\": \"/projets/iris/PROJETS/WEIR/code/3rdYear/MatchZoo_latest/MatchZoo/examples/trec/weights/concatenated/ammm_p5/accnnm_letor_ranking_p5_ctxtNum5_ctxtEmb10_convDrop0.0_lstmDrop0.0_pool1_attQ_attD_perContext_attP_mergeLevels.weights\",\n    \"num_iters\": 600,\n    \"learning_rate\": 0.1,\n    \"optimizer\": \"adam\",\n    \"model_type\": \"PY\",\n    \"display_interval\": 10\n  },\n  \"outputs\": {\n    \"predict\": {\n      \"save_format\": \"TREC\",\n      \"save_path\": \"/projets/iris/PROJETS/WEIR/code/3rdYear/MatchZoo_latest/MatchZoo/examples/trec/predictions/concatenated/ACCNNM/5/ammm_p5/predict.test.accnnm_p5_ctxtNum5_ctxtEmb10_convDrop0.0_lstmDrop0.0_pool1_attQ_attD_perContext_attP_mergeLevels.letor.ranking.txt\"\n    }\n  },\n  \"inputs\": {\n    \"test\": {\n      \"input_type\": \"ListGenerator\",\n      \"phase\": \"EVAL\",\n      \"relation_file\": \"/projets/iris/PROJETS/WEIR/data/passages_ranking_indri/Robust/MZ_data/concatenated/5/fold_0/relation_test.txt\",\n      \"batch_list\": 10\n    },\n    \"predict\": {\n      \"input_type\": \"ListGenerator\",\n      \"phase\": \"PREDICT\",\n      \"relation_file\": \"/projets/iris/PROJETS/WEIR/data/passages_ranking_indri/Robust/MZ_data/concatenated/5/fold_0/relation_test.txt\",\n      \"batch_list\": 10\n    },\n    \"share\": {\n      \"text1_maxlen\": 10,\n      \"text2_maxlen\": 100,\n      \"embed_path\": \"/projets/iris/PROJETS/WEIR/data/passages_ranking_indri/Robust/MZ_data/concatenated/5/fold_0/embed_glove_300_norm\",\n      \"target_mode\": \"ranking\",\n      \"vocab_size\": 122100,\n      \"context_len\": 5,\n      \"embed_size\": 300,\n      \"train_embed\": false,\n      \"text1_corpus\": \"/projets/iris/PROJETS/WEIR/data/passages_ranking_indri/Robust/MZ_data/concatenated/5/fold_0/corpus_preprocessed.txt\",\n      \"use_dpool\": false,\n      \"context_num\": 20,\n      \"text2_corpus\": \"/projets/iris/PROJETS/WEIR/data/passages_ranking_indri/Robust/MZ_data/concatenated/5/fold_0/corpus_preprocessed.txt\"\n    },\n    \"valid\": {\n      \"input_type\": \"ListGenerator\",\n      \"phase\": \"EVAL\",\n      \"relation_file\": \"/projets/iris/PROJETS/WEIR/data/passages_ranking_indri/Robust/MZ_data/concatenated/5/fold_0/relation_valid.txt\",\n      \"batch_list\": 10\n    },\n    \"train\": {\n      \"query_per_iter\": 50,\n      \"input_type\": \"PairGenerator\",\n      \"phase\": \"TRAIN\",\n      \"batch_size\": 100,\n      \"use_iter\": false,\n      \"relation_file\": \"/projets/iris/PROJETS/WEIR/data/passages_ranking_indri/Robust/MZ_data/concatenated/5/fold_0/relation_train.txt\",\n      \"batch_per_iter\": 10\n    }\n  },\n  \"model\": {\n    \"setting\": {\n      \"lstm_dropout_rate\": 0.2,\n      \"merge_levels\": false,\n      \"text2_attention\": false,\n      \"per_context\": true,\n      \"context_embed\": 40,\n      \"context_attention\": false,\n      \"pool_size\": 3,\n      \"text1_attention\": false,\n      \"conv_dropout_rate\": 0.2\n    },\n    \"model_py\": \"accnnm_merge_levels.A_CCNNM\",\n    \"model_path\": \"./matchzoo/models/\"\n  },\n  \"metrics\": [\n    \"precision@10\",\n    \"precision@20\",\n    \"ndcg@20\",\n    \"ndcg@10\",\n    \"map\"\n  ]\n}\n"
     ]
    }
   ],
   "source": [
    "print(json.dumps(config, indent=2))"
   ]
  },
  {
   "cell_type": "code",
   "execution_count": 71,
   "metadata": {},
   "outputs": [
    {
     "name": "stderr",
     "output_type": "stream",
     "text": [
      "\r  0%|          | 0/2304 [00:00<?, ?it/s]"
     ]
    },
    {
     "name": "stderr",
     "output_type": "stream",
     "text": [
      "\r  1%|          | 25/2304 [00:00<00:09, 246.53it/s]"
     ]
    },
    {
     "name": "stderr",
     "output_type": "stream",
     "text": [
      "\r  3%|▎         | 59/2304 [00:00<00:07, 292.92it/s]"
     ]
    },
    {
     "name": "stderr",
     "output_type": "stream",
     "text": [
      "\r  4%|▎         | 85/2304 [00:00<00:08, 277.02it/s]"
     ]
    },
    {
     "name": "stderr",
     "output_type": "stream",
     "text": [
      "\r  5%|▍         | 109/2304 [00:00<00:08, 266.57it/s]"
     ]
    },
    {
     "name": "stderr",
     "output_type": "stream",
     "text": [
      "\r  6%|▌         | 133/2304 [00:00<00:08, 258.07it/s]"
     ]
    },
    {
     "name": "stderr",
     "output_type": "stream",
     "text": [
      "\r  7%|▋         | 166/2304 [00:00<00:07, 269.55it/s]"
     ]
    },
    {
     "name": "stderr",
     "output_type": "stream",
     "text": [
      "\r  8%|▊         | 193/2304 [00:00<00:07, 265.14it/s]"
     ]
    },
    {
     "name": "stderr",
     "output_type": "stream",
     "text": [
      "\r 10%|▉         | 223/2304 [00:00<00:07, 268.79it/s]"
     ]
    },
    {
     "name": "stderr",
     "output_type": "stream",
     "text": [
      "\r 11%|█         | 253/2304 [00:00<00:07, 267.14it/s]"
     ]
    },
    {
     "name": "stderr",
     "output_type": "stream",
     "text": [
      "\r 12%|█▏        | 282/2304 [00:01<00:07, 268.90it/s]"
     ]
    },
    {
     "name": "stderr",
     "output_type": "stream",
     "text": [
      "\r 14%|█▎        | 313/2304 [00:01<00:07, 268.70it/s]"
     ]
    },
    {
     "name": "stderr",
     "output_type": "stream",
     "text": [
      "\r 15%|█▌        | 346/2304 [00:01<00:07, 273.24it/s]"
     ]
    },
    {
     "name": "stderr",
     "output_type": "stream",
     "text": [
      "\r 16%|█▋        | 375/2304 [00:01<00:07, 272.68it/s]"
     ]
    },
    {
     "name": "stderr",
     "output_type": "stream",
     "text": [
      "\r 18%|█▊        | 407/2304 [00:01<00:06, 275.67it/s]"
     ]
    },
    {
     "name": "stderr",
     "output_type": "stream",
     "text": [
      "\r 19%|█▉        | 436/2304 [00:01<00:06, 275.42it/s]"
     ]
    },
    {
     "name": "stderr",
     "output_type": "stream",
     "text": [
      "\r 20%|██        | 469/2304 [00:01<00:06, 276.04it/s]"
     ]
    },
    {
     "name": "stderr",
     "output_type": "stream",
     "text": [
      "\r 22%|██▏       | 505/2304 [00:01<00:06, 277.70it/s]"
     ]
    },
    {
     "name": "stderr",
     "output_type": "stream",
     "text": [
      "\r 23%|██▎       | 534/2304 [00:01<00:06, 274.36it/s]"
     ]
    },
    {
     "name": "stderr",
     "output_type": "stream",
     "text": [
      "\r 25%|██▍       | 565/2304 [00:02<00:06, 273.47it/s]"
     ]
    },
    {
     "name": "stderr",
     "output_type": "stream",
     "text": [
      "\r 26%|██▌       | 601/2304 [00:02<00:06, 275.08it/s]"
     ]
    },
    {
     "name": "stderr",
     "output_type": "stream",
     "text": [
      "\r 27%|██▋       | 629/2304 [00:02<00:06, 271.92it/s]"
     ]
    },
    {
     "name": "stderr",
     "output_type": "stream",
     "text": [
      "\r 29%|██▊       | 661/2304 [00:02<00:06, 272.55it/s]"
     ]
    },
    {
     "name": "stderr",
     "output_type": "stream",
     "text": [
      "\r 30%|███       | 695/2304 [00:02<00:05, 275.15it/s]"
     ]
    },
    {
     "name": "stderr",
     "output_type": "stream",
     "text": [
      "\r 31%|███▏      | 724/2304 [00:02<00:05, 274.73it/s]"
     ]
    },
    {
     "name": "stderr",
     "output_type": "stream",
     "text": [
      "\r 33%|███▎      | 757/2304 [00:02<00:05, 275.33it/s]"
     ]
    },
    {
     "name": "stderr",
     "output_type": "stream",
     "text": [
      "\r 34%|███▍      | 786/2304 [00:02<00:05, 273.22it/s]"
     ]
    },
    {
     "name": "stderr",
     "output_type": "stream",
     "text": [
      "\r 35%|███▌      | 815/2304 [00:02<00:05, 273.70it/s]"
     ]
    },
    {
     "name": "stderr",
     "output_type": "stream",
     "text": [
      "\r 37%|███▋      | 843/2304 [00:03<00:05, 272.71it/s]"
     ]
    },
    {
     "name": "stderr",
     "output_type": "stream",
     "text": [
      "\r 38%|███▊      | 874/2304 [00:03<00:05, 273.84it/s]"
     ]
    },
    {
     "name": "stderr",
     "output_type": "stream",
     "text": [
      "\r 39%|███▉      | 902/2304 [00:03<00:05, 273.57it/s]"
     ]
    },
    {
     "name": "stderr",
     "output_type": "stream",
     "text": [
      "\r 41%|████      | 937/2304 [00:03<00:04, 274.20it/s]"
     ]
    },
    {
     "name": "stderr",
     "output_type": "stream",
     "text": [
      "\r 42%|████▏     | 965/2304 [00:03<00:04, 271.30it/s]"
     ]
    },
    {
     "name": "stderr",
     "output_type": "stream",
     "text": [
      "\r 43%|████▎     | 991/2304 [00:03<00:04, 269.71it/s]"
     ]
    },
    {
     "name": "stderr",
     "output_type": "stream",
     "text": [
      "\r 44%|████▍     | 1016/2304 [00:03<00:04, 268.07it/s]"
     ]
    },
    {
     "name": "stderr",
     "output_type": "stream",
     "text": [
      "\r 45%|████▌     | 1040/2304 [00:03<00:04, 267.24it/s]"
     ]
    },
    {
     "name": "stderr",
     "output_type": "stream",
     "text": [
      "\r 46%|████▋     | 1069/2304 [00:04<00:04, 266.71it/s]"
     ]
    },
    {
     "name": "stderr",
     "output_type": "stream",
     "text": [
      "\r 48%|████▊     | 1105/2304 [00:04<00:04, 268.18it/s]"
     ]
    },
    {
     "name": "stderr",
     "output_type": "stream",
     "text": [
      "\r 49%|████▉     | 1137/2304 [00:04<00:04, 269.37it/s]"
     ]
    },
    {
     "name": "stderr",
     "output_type": "stream",
     "text": [
      "\r 51%|█████     | 1166/2304 [00:04<00:04, 269.15it/s]"
     ]
    },
    {
     "name": "stderr",
     "output_type": "stream",
     "text": [
      "\r 52%|█████▏    | 1195/2304 [00:04<00:04, 269.60it/s]"
     ]
    },
    {
     "name": "stderr",
     "output_type": "stream",
     "text": [
      "\r 53%|█████▎    | 1225/2304 [00:04<00:03, 269.77it/s]"
     ]
    },
    {
     "name": "stderr",
     "output_type": "stream",
     "text": [
      "\r 55%|█████▍    | 1258/2304 [00:04<00:03, 270.98it/s]"
     ]
    },
    {
     "name": "stderr",
     "output_type": "stream",
     "text": [
      "\r 56%|█████▌    | 1288/2304 [00:04<00:03, 271.37it/s]"
     ]
    },
    {
     "name": "stderr",
     "output_type": "stream",
     "text": [
      "\r 57%|█████▋    | 1321/2304 [00:04<00:03, 270.08it/s]"
     ]
    },
    {
     "name": "stderr",
     "output_type": "stream",
     "text": [
      "\r 59%|█████▊    | 1353/2304 [00:04<00:03, 271.08it/s]"
     ]
    },
    {
     "name": "stderr",
     "output_type": "stream",
     "text": [
      "\r 60%|█████▉    | 1382/2304 [00:05<00:03, 271.01it/s]"
     ]
    },
    {
     "name": "stderr",
     "output_type": "stream",
     "text": [
      "\r 62%|██████▏   | 1417/2304 [00:05<00:03, 271.61it/s]"
     ]
    },
    {
     "name": "stderr",
     "output_type": "stream",
     "text": [
      "\r 63%|██████▎   | 1446/2304 [00:05<00:03, 270.25it/s]"
     ]
    },
    {
     "name": "stderr",
     "output_type": "stream",
     "text": [
      "\r 64%|██████▍   | 1477/2304 [00:05<00:03, 270.02it/s]"
     ]
    },
    {
     "name": "stderr",
     "output_type": "stream",
     "text": [
      "\r 65%|██████▌   | 1508/2304 [00:05<00:02, 270.62it/s]"
     ]
    },
    {
     "name": "stderr",
     "output_type": "stream",
     "text": [
      "\r 67%|██████▋   | 1537/2304 [00:05<00:02, 270.41it/s]"
     ]
    },
    {
     "name": "stderr",
     "output_type": "stream",
     "text": [
      "\r 68%|██████▊   | 1573/2304 [00:05<00:02, 270.97it/s]"
     ]
    },
    {
     "name": "stderr",
     "output_type": "stream",
     "text": [
      "\r 69%|██████▉   | 1601/2304 [00:05<00:02, 267.60it/s]"
     ]
    },
    {
     "name": "stderr",
     "output_type": "stream",
     "text": [
      "\r 71%|███████   | 1631/2304 [00:06<00:02, 268.05it/s]"
     ]
    },
    {
     "name": "stderr",
     "output_type": "stream",
     "text": [
      "\r 72%|███████▏  | 1657/2304 [00:06<00:02, 265.99it/s]"
     ]
    },
    {
     "name": "stderr",
     "output_type": "stream",
     "text": [
      "\r 73%|███████▎  | 1684/2304 [00:06<00:02, 265.94it/s]"
     ]
    },
    {
     "name": "stderr",
     "output_type": "stream",
     "text": [
      "\r 74%|███████▍  | 1709/2304 [00:06<00:02, 264.60it/s]"
     ]
    },
    {
     "name": "stderr",
     "output_type": "stream",
     "text": [
      "\r 75%|███████▌  | 1739/2304 [00:06<00:02, 265.13it/s]"
     ]
    },
    {
     "name": "stderr",
     "output_type": "stream",
     "text": [
      "\r 77%|███████▋  | 1765/2304 [00:06<00:02, 264.97it/s]"
     ]
    },
    {
     "name": "stderr",
     "output_type": "stream",
     "text": [
      "\r 78%|███████▊  | 1798/2304 [00:06<00:01, 265.87it/s]"
     ]
    },
    {
     "name": "stderr",
     "output_type": "stream",
     "text": [
      "\r 79%|███████▉  | 1826/2304 [00:06<00:01, 265.04it/s]"
     ]
    },
    {
     "name": "stderr",
     "output_type": "stream",
     "text": [
      "\r 80%|████████  | 1852/2304 [00:06<00:01, 264.79it/s]"
     ]
    },
    {
     "name": "stderr",
     "output_type": "stream",
     "text": [
      "\r 82%|████████▏ | 1885/2304 [00:07<00:01, 265.14it/s]"
     ]
    },
    {
     "name": "stderr",
     "output_type": "stream",
     "text": [
      "\r 83%|████████▎ | 1921/2304 [00:07<00:01, 265.98it/s]"
     ]
    },
    {
     "name": "stderr",
     "output_type": "stream",
     "text": [
      "\r 85%|████████▍ | 1957/2304 [00:07<00:01, 266.78it/s]"
     ]
    },
    {
     "name": "stderr",
     "output_type": "stream",
     "text": [
      "\r 87%|████████▋ | 1993/2304 [00:07<00:01, 267.54it/s]"
     ]
    },
    {
     "name": "stderr",
     "output_type": "stream",
     "text": [
      "\r 88%|████████▊ | 2029/2304 [00:07<00:01, 268.18it/s]"
     ]
    },
    {
     "name": "stderr",
     "output_type": "stream",
     "text": [
      "\r 90%|████████▉ | 2065/2304 [00:07<00:00, 268.77it/s]"
     ]
    },
    {
     "name": "stderr",
     "output_type": "stream",
     "text": [
      "\r 91%|█████████ | 2096/2304 [00:07<00:00, 267.84it/s]"
     ]
    },
    {
     "name": "stderr",
     "output_type": "stream",
     "text": [
      "\r 92%|█████████▏| 2124/2304 [00:07<00:00, 265.51it/s]"
     ]
    },
    {
     "name": "stderr",
     "output_type": "stream",
     "text": [
      "\r 93%|█████████▎| 2152/2304 [00:08<00:00, 265.69it/s]"
     ]
    },
    {
     "name": "stderr",
     "output_type": "stream",
     "text": [
      "\r 95%|█████████▍| 2185/2304 [00:08<00:00, 266.32it/s]"
     ]
    },
    {
     "name": "stderr",
     "output_type": "stream",
     "text": [
      "\r 96%|█████████▋| 2221/2304 [00:08<00:00, 267.04it/s]"
     ]
    },
    {
     "name": "stderr",
     "output_type": "stream",
     "text": [
      "\r 98%|█████████▊| 2250/2304 [00:08<00:00, 262.20it/s]"
     ]
    },
    {
     "name": "stderr",
     "output_type": "stream",
     "text": [
      "\r 99%|█████████▉| 2281/2304 [00:08<00:00, 262.19it/s]"
     ]
    },
    {
     "name": "stderr",
     "output_type": "stream",
     "text": [
      "\r100%|██████████| 2304/2304 [00:09<00:00, 255.22it/s]"
     ]
    },
    {
     "name": "stderr",
     "output_type": "stream",
     "text": [
      "\n"
     ]
    }
   ],
   "source": [
    "# create scripts OSIRIM\n",
    "\n",
    "scripts = \"/home/thiziri/Documents/DOCTORAT/OSIRIM/projets/iris/PROJETS/WEIR/code/3rdYear/MatchZoo_latest/scripts/Letor/train_predict/train/concatenated/tested_configs_fold1/in_gpu\"\n",
    "\n",
    "header_gpu = \"\"\"#!/bin/sh\n",
    "#SBATCH --job-name=train_accnnm<num>_f1_gpu               # Nom du Job\n",
    "#SBATCH --ntasks=2                       # Nombre de Tasks : 1\n",
    "#SBATCH --cpus-per-task=4                # Allocation de 6 CPU par Task\n",
    "#SBATCH --output=train_accnnm<num>_f1_gpu.out\n",
    "#SBATCH --partition=GPUNodes\n",
    "#SBATCH --gres=gpu:4\n",
    "#SBATCH --mem-per-cpu=8000M\n",
    "\n",
    "#SBATCH --mail-type=ALL                  # Notification par mail des évènements concernant le job : début d’exécution, fin,…\n",
    "#SBATCH --mail-user=thiziri.belkacem@irit.fr\n",
    "\n",
    "# /projets/iris/PROJETS/WEIR/code/3rdYear/MatchZoo_latest/scripts/Letor/train_predict/train/concatenated/tested_configs_fold1\n",
    "\n",
    "cd /projets/iris/PROJETS/WEIR/code/3rdYear/MatchZoo_latest/MatchZoo/\n",
    "\"\"\"\n",
    "cmd = \"srun -n1 -N1 keras-py3-tf /projets/iris/PROJETS/WEIR/python_env/inherited/gpu_supported/python3/bin/python3 matchzoo/main_gpu.py --gpus 2 --phase train --model_file \"\n",
    "num = 0\n",
    "new_script = True\n",
    "limit = 12\n",
    "for file in tqdm(os.listdir(output)):\n",
    "    num += 1\n",
    "    if new_script:\n",
    "        out = open(os.path.join(scripts, \"run_accnnm_\"+str(num)+\".sh\"), 'w')\n",
    "        out.write(header_gpu.replace(\"<num>\", str(num)))\n",
    "        new_script = False\n",
    "    line = cmd + os.path.join(output, file).replace(\"/home/thiziri/Documents/DOCTORAT/OSIRIM\", '') + \\\n",
    "           \" > /projets/iris/PROJETS/WEIR/code/3rdYear/MatchZoo_latest/MatchZoo/examples/Letor/train_logs/concatenated/tested_configs_fold1/\" + file.replace(\".config\", \".log\") + '&'\n",
    "    out.write(line + '\\n')\n",
    "    if num % 2 == 0:\n",
    "        out.write('wait\\n')\n",
    "    if num % limit == 0 or len(os.listdir(output)) - num < limit:\n",
    "        new_script = True\n",
    "        # if len(os.listdir(output)) - num < limit:\n",
    "out.close()"
   ]
  },
  {
   "cell_type": "code",
   "execution_count": 72,
   "metadata": {},
   "outputs": [
    {
     "name": "stderr",
     "output_type": "stream",
     "text": [
      "\r  0%|          | 0/2304 [00:00<?, ?it/s]"
     ]
    },
    {
     "name": "stderr",
     "output_type": "stream",
     "text": [
      "\r  1%|          | 14/2304 [00:00<00:17, 129.07it/s]"
     ]
    },
    {
     "name": "stderr",
     "output_type": "stream",
     "text": [
      "\r  2%|▏         | 38/2304 [00:00<00:12, 180.67it/s]"
     ]
    },
    {
     "name": "stderr",
     "output_type": "stream",
     "text": [
      "\r  3%|▎         | 62/2304 [00:00<00:11, 199.29it/s]"
     ]
    },
    {
     "name": "stderr",
     "output_type": "stream",
     "text": [
      "\r  4%|▍         | 97/2304 [00:00<00:09, 223.37it/s]"
     ]
    },
    {
     "name": "stderr",
     "output_type": "stream",
     "text": [
      "\r  5%|▌         | 121/2304 [00:00<00:09, 223.88it/s]"
     ]
    },
    {
     "name": "stderr",
     "output_type": "stream",
     "text": [
      "\r  7%|▋         | 157/2304 [00:00<00:08, 241.95it/s]"
     ]
    },
    {
     "name": "stderr",
     "output_type": "stream",
     "text": [
      "\r  8%|▊         | 193/2304 [00:00<00:08, 254.01it/s]"
     ]
    },
    {
     "name": "stderr",
     "output_type": "stream",
     "text": [
      "\r 10%|▉         | 220/2304 [00:00<00:08, 250.48it/s]"
     ]
    },
    {
     "name": "stderr",
     "output_type": "stream",
     "text": [
      "\r 11%|█         | 256/2304 [00:00<00:07, 261.30it/s]"
     ]
    },
    {
     "name": "stderr",
     "output_type": "stream",
     "text": [
      "\r 13%|█▎        | 289/2304 [00:01<00:07, 254.27it/s]"
     ]
    },
    {
     "name": "stderr",
     "output_type": "stream",
     "text": [
      "\r 14%|█▍        | 321/2304 [00:01<00:07, 259.22it/s]"
     ]
    },
    {
     "name": "stderr",
     "output_type": "stream",
     "text": [
      "\r 15%|█▌        | 350/2304 [00:01<00:07, 260.56it/s]"
     ]
    },
    {
     "name": "stderr",
     "output_type": "stream",
     "text": [
      "\r 17%|█▋        | 383/2304 [00:01<00:07, 265.35it/s]"
     ]
    },
    {
     "name": "stderr",
     "output_type": "stream",
     "text": [
      "\r 18%|█▊        | 413/2304 [00:01<00:07, 259.00it/s]"
     ]
    },
    {
     "name": "stderr",
     "output_type": "stream",
     "text": [
      "\r 19%|█▉        | 440/2304 [00:01<00:07, 257.58it/s]"
     ]
    },
    {
     "name": "stderr",
     "output_type": "stream",
     "text": [
      "\r 20%|██        | 466/2304 [00:01<00:07, 256.83it/s]"
     ]
    },
    {
     "name": "stderr",
     "output_type": "stream",
     "text": [
      "\r 21%|██▏       | 494/2304 [00:01<00:07, 257.37it/s]"
     ]
    },
    {
     "name": "stderr",
     "output_type": "stream",
     "text": [
      "\r 23%|██▎       | 520/2304 [00:02<00:07, 252.43it/s]"
     ]
    },
    {
     "name": "stderr",
     "output_type": "stream",
     "text": [
      "\r 24%|██▍       | 549/2304 [00:02<00:06, 254.12it/s]"
     ]
    },
    {
     "name": "stderr",
     "output_type": "stream",
     "text": [
      "\r 25%|██▍       | 575/2304 [00:02<00:06, 251.50it/s]"
     ]
    },
    {
     "name": "stderr",
     "output_type": "stream",
     "text": [
      "\r 26%|██▌       | 601/2304 [00:02<00:06, 249.91it/s]"
     ]
    },
    {
     "name": "stderr",
     "output_type": "stream",
     "text": [
      "\r 27%|██▋       | 625/2304 [00:02<00:06, 248.88it/s]"
     ]
    },
    {
     "name": "stderr",
     "output_type": "stream",
     "text": [
      "\r 29%|██▊       | 659/2304 [00:02<00:06, 252.26it/s]"
     ]
    },
    {
     "name": "stderr",
     "output_type": "stream",
     "text": [
      "\r 30%|██▉       | 690/2304 [00:02<00:06, 254.31it/s]"
     ]
    },
    {
     "name": "stderr",
     "output_type": "stream",
     "text": [
      "\r 31%|███▏      | 723/2304 [00:02<00:06, 256.95it/s]"
     ]
    },
    {
     "name": "stderr",
     "output_type": "stream",
     "text": [
      "\r 33%|███▎      | 757/2304 [00:02<00:05, 259.56it/s]"
     ]
    },
    {
     "name": "stderr",
     "output_type": "stream",
     "text": [
      "\r 34%|███▍      | 793/2304 [00:03<00:05, 262.38it/s]"
     ]
    },
    {
     "name": "stderr",
     "output_type": "stream",
     "text": [
      "\r 36%|███▌      | 825/2304 [00:03<00:05, 258.79it/s]"
     ]
    },
    {
     "name": "stderr",
     "output_type": "stream",
     "text": [
      "\r 37%|███▋      | 853/2304 [00:03<00:05, 257.80it/s]"
     ]
    },
    {
     "name": "stderr",
     "output_type": "stream",
     "text": [
      "\r 38%|███▊      | 880/2304 [00:03<00:05, 257.27it/s]"
     ]
    },
    {
     "name": "stderr",
     "output_type": "stream",
     "text": [
      "\r 40%|███▉      | 913/2304 [00:03<00:05, 259.28it/s]"
     ]
    },
    {
     "name": "stderr",
     "output_type": "stream",
     "text": [
      "\r 41%|████      | 949/2304 [00:03<00:05, 261.52it/s]"
     ]
    },
    {
     "name": "stderr",
     "output_type": "stream",
     "text": [
      "\r 43%|████▎     | 985/2304 [00:03<00:05, 263.67it/s]"
     ]
    },
    {
     "name": "stderr",
     "output_type": "stream",
     "text": [
      "\r 44%|████▍     | 1021/2304 [00:03<00:04, 265.63it/s]"
     ]
    },
    {
     "name": "stderr",
     "output_type": "stream",
     "text": [
      "\r 46%|████▌     | 1057/2304 [00:03<00:04, 267.24it/s]"
     ]
    },
    {
     "name": "stderr",
     "output_type": "stream",
     "text": [
      "\r 47%|████▋     | 1089/2304 [00:04<00:04, 266.11it/s]"
     ]
    },
    {
     "name": "stderr",
     "output_type": "stream",
     "text": [
      "\r 49%|████▊     | 1119/2304 [00:04<00:04, 266.02it/s]"
     ]
    },
    {
     "name": "stderr",
     "output_type": "stream",
     "text": [
      "\r 50%|█████     | 1153/2304 [00:04<00:04, 267.55it/s]"
     ]
    },
    {
     "name": "stderr",
     "output_type": "stream",
     "text": [
      "\r 52%|█████▏    | 1189/2304 [00:04<00:04, 269.44it/s]"
     ]
    },
    {
     "name": "stderr",
     "output_type": "stream",
     "text": [
      "\r 53%|█████▎    | 1221/2304 [00:04<00:04, 268.85it/s]"
     ]
    },
    {
     "name": "stderr",
     "output_type": "stream",
     "text": [
      "\r 54%|█████▍    | 1251/2304 [00:04<00:03, 267.93it/s]"
     ]
    },
    {
     "name": "stderr",
     "output_type": "stream",
     "text": [
      "\r 56%|█████▌    | 1279/2304 [00:04<00:03, 267.45it/s]"
     ]
    },
    {
     "name": "stderr",
     "output_type": "stream",
     "text": [
      "\r 57%|█████▋    | 1306/2304 [00:04<00:03, 267.23it/s]"
     ]
    },
    {
     "name": "stderr",
     "output_type": "stream",
     "text": [
      "\r 58%|█████▊    | 1333/2304 [00:05<00:03, 266.14it/s]"
     ]
    },
    {
     "name": "stderr",
     "output_type": "stream",
     "text": [
      "\r 59%|█████▉    | 1369/2304 [00:05<00:03, 267.35it/s]"
     ]
    },
    {
     "name": "stderr",
     "output_type": "stream",
     "text": [
      "\r 61%|██████    | 1405/2304 [00:05<00:03, 268.65it/s]"
     ]
    },
    {
     "name": "stderr",
     "output_type": "stream",
     "text": [
      "\r 62%|██████▏   | 1436/2304 [00:05<00:03, 269.40it/s]"
     ]
    },
    {
     "name": "stderr",
     "output_type": "stream",
     "text": [
      "\r 64%|██████▎   | 1466/2304 [00:05<00:03, 268.86it/s]"
     ]
    },
    {
     "name": "stderr",
     "output_type": "stream",
     "text": [
      "\r 65%|██████▌   | 1501/2304 [00:05<00:02, 269.64it/s]"
     ]
    },
    {
     "name": "stderr",
     "output_type": "stream",
     "text": [
      "\r 66%|██████▋   | 1530/2304 [00:05<00:02, 269.04it/s]"
     ]
    },
    {
     "name": "stderr",
     "output_type": "stream",
     "text": [
      "\r 68%|██████▊   | 1561/2304 [00:05<00:02, 269.65it/s]"
     ]
    },
    {
     "name": "stderr",
     "output_type": "stream",
     "text": [
      "\r 69%|██████▉   | 1597/2304 [00:05<00:02, 270.56it/s]"
     ]
    },
    {
     "name": "stderr",
     "output_type": "stream",
     "text": [
      "\r 71%|███████   | 1633/2304 [00:06<00:02, 271.55it/s]"
     ]
    },
    {
     "name": "stderr",
     "output_type": "stream",
     "text": [
      "\r 72%|███████▏  | 1664/2304 [00:06<00:02, 271.80it/s]"
     ]
    },
    {
     "name": "stderr",
     "output_type": "stream",
     "text": [
      "\r 74%|███████▎  | 1694/2304 [00:06<00:02, 270.83it/s]"
     ]
    },
    {
     "name": "stderr",
     "output_type": "stream",
     "text": [
      "\r 75%|███████▍  | 1722/2304 [00:06<00:02, 269.02it/s]"
     ]
    },
    {
     "name": "stderr",
     "output_type": "stream",
     "text": [
      "\r 76%|███████▌  | 1753/2304 [00:06<00:02, 269.57it/s]"
     ]
    },
    {
     "name": "stderr",
     "output_type": "stream",
     "text": [
      "\r 78%|███████▊  | 1789/2304 [00:06<00:01, 270.61it/s]"
     ]
    },
    {
     "name": "stderr",
     "output_type": "stream",
     "text": [
      "\r 79%|███████▉  | 1825/2304 [00:06<00:01, 271.35it/s]"
     ]
    },
    {
     "name": "stderr",
     "output_type": "stream",
     "text": [
      "\r 81%|████████  | 1855/2304 [00:06<00:01, 269.59it/s]"
     ]
    },
    {
     "name": "stderr",
     "output_type": "stream",
     "text": [
      "\r 82%|████████▏ | 1882/2304 [00:06<00:01, 268.99it/s]"
     ]
    },
    {
     "name": "stderr",
     "output_type": "stream",
     "text": [
      "\r 83%|████████▎ | 1909/2304 [00:07<00:01, 268.20it/s]"
     ]
    },
    {
     "name": "stderr",
     "output_type": "stream",
     "text": [
      "\r 84%|████████▍ | 1934/2304 [00:07<00:01, 267.01it/s]"
     ]
    },
    {
     "name": "stderr",
     "output_type": "stream",
     "text": [
      "\r 85%|████████▌ | 1969/2304 [00:07<00:01, 267.67it/s]"
     ]
    },
    {
     "name": "stderr",
     "output_type": "stream",
     "text": [
      "\r 87%|████████▋ | 1995/2304 [00:07<00:01, 267.56it/s]"
     ]
    },
    {
     "name": "stderr",
     "output_type": "stream",
     "text": [
      "\r 88%|████████▊ | 2029/2304 [00:07<00:01, 268.38it/s]"
     ]
    },
    {
     "name": "stderr",
     "output_type": "stream",
     "text": [
      "\r 90%|████████▉ | 2065/2304 [00:07<00:00, 269.47it/s]"
     ]
    },
    {
     "name": "stderr",
     "output_type": "stream",
     "text": [
      "\r 91%|█████████ | 2095/2304 [00:07<00:00, 268.73it/s]"
     ]
    },
    {
     "name": "stderr",
     "output_type": "stream",
     "text": [
      "\r 92%|█████████▏| 2125/2304 [00:07<00:00, 268.92it/s]"
     ]
    },
    {
     "name": "stderr",
     "output_type": "stream",
     "text": [
      "\r 94%|█████████▍| 2161/2304 [00:08<00:00, 269.81it/s]"
     ]
    },
    {
     "name": "stderr",
     "output_type": "stream",
     "text": [
      "\r 95%|█████████▌| 2191/2304 [00:08<00:00, 268.02it/s]"
     ]
    },
    {
     "name": "stderr",
     "output_type": "stream",
     "text": [
      "\r 96%|█████████▋| 2218/2304 [00:08<00:00, 267.12it/s]"
     ]
    },
    {
     "name": "stderr",
     "output_type": "stream",
     "text": [
      "\r 97%|█████████▋| 2245/2304 [00:08<00:00, 266.92it/s]"
     ]
    },
    {
     "name": "stderr",
     "output_type": "stream",
     "text": [
      "\r 99%|█████████▊| 2270/2304 [00:08<00:00, 265.92it/s]"
     ]
    },
    {
     "name": "stderr",
     "output_type": "stream",
     "text": [
      "\r100%|█████████▉| 2294/2304 [00:08<00:00, 265.44it/s]"
     ]
    },
    {
     "name": "stderr",
     "output_type": "stream",
     "text": [
      "\r100%|██████████| 2304/2304 [00:08<00:00, 259.32it/s]"
     ]
    },
    {
     "name": "stderr",
     "output_type": "stream",
     "text": [
      "\n"
     ]
    }
   ],
   "source": [
    "# create scripts OSIRIM\n",
    "\n",
    "scripts = \"/home/thiziri/Documents/DOCTORAT/OSIRIM/projets/iris/PROJETS/WEIR/code/3rdYear/MatchZoo_latest/scripts/Letor/train_predict/train/concatenated/tested_configs_fold1/in_cpu\"\n",
    "\n",
    "header = \"\"\"#!/bin/sh\n",
    "#SBATCH --job-name=train_accnnm<num>_f1_cpu               # Nom du Job\n",
    "#SBATCH --ntasks=2                       # Nombre de Tasks : 1\n",
    "#SBATCH --cpus-per-task=12                # Allocation de 6 CPU par Task\n",
    "#SBATCH --output=train_accnnm<num>_f1_cpu.out\n",
    "#SBATCH --partition=24CPUNodes\n",
    "#SBATCH --mem-per-cpu=7500M\n",
    "\n",
    "#SBATCH --mail-type=ALL                  # Notification par mail des évènements concernant le job : début d’exécution, fin,…\n",
    "#SBATCH --mail-user=thiziri.belkacem@irit.fr\n",
    "\n",
    "# /projets/iris/PROJETS/WEIR/code/3rdYear/MatchZoo_latest/scripts/Letor/train_predict/train/concatenated/tested_configs_fold1\n",
    "\n",
    "cd /projets/iris/PROJETS/WEIR/code/3rdYear/MatchZoo_latest/MatchZoo/\n",
    "\n",
    "\"\"\"\n",
    "cmd = \"srun -n1 -N1 /projets/iris/PROJETS/WEIR/python_env/inherited/python3.5/bin/python3 matchzoo/main.py --phase train --model_file \"\n",
    "num = 0\n",
    "new_script = True\n",
    "limit = 12\n",
    "for file in tqdm(os.listdir(output)):\n",
    "    num += 1\n",
    "    if new_script:\n",
    "        out = open(os.path.join(scripts, \"run_accnnm_\"+str(num)+\".sh\"), 'w')\n",
    "        out.write(header.replace(\"<num>\", str(num)))\n",
    "        new_script = False\n",
    "    line = cmd + os.path.join(output, file).replace(\"/home/thiziri/Documents/DOCTORAT/OSIRIM\", '') + \\\n",
    "           \" > /projets/iris/PROJETS/WEIR/code/3rdYear/MatchZoo_latest/MatchZoo/examples/Letor/train_logs/concatenated/tested_configs_fold1/\" + file.replace(\".config\", \"_cpu.log\") + '&'\n",
    "    out.write(line + '\\n')\n",
    "    if num % 2 == 0:\n",
    "        out.write('wait\\n')\n",
    "    if num % limit == 0 or len(os.listdir(output)) - num < limit:\n",
    "        new_script = True\n",
    "        # if len(os.listdir(output)) - num < limit:\n",
    "out.close()"
   ]
  },
  {
   "cell_type": "code",
   "execution_count": 75,
   "metadata": {},
   "outputs": [],
   "source": [
    "batch = open(\"/home/thiziri/Documents/DOCTORAT/OSIRIM/projets/iris/PROJETS/WEIR/code/3rdYear/MatchZoo_latest/scripts/Letor/train_predict/train/concatenated/tested_configs_fold1/run_gpu_scripts.sh\", 'w')\n",
    "batch.write(\"\"\"#!/bin/sh\n",
    "#SBATCH --job-name=run_batches              # Nom du Job\n",
    "#SBATCH --ntasks=1                       # Nombre de Tasks : 1\n",
    "#SBATCH --cpus-per-task=4                # Allocation de 6 CPU par Task\n",
    "#SBATCH --output=run_batches.out\n",
    "#SBATCH --partition=24CPUNodes\n",
    "#SBATCH --mem-per-cpu=7500M\n",
    "\n",
    "#SBATCH --mail-type=ALL                  # Notification par mail des évènements concernant le job : début d’exécution, fin,…\n",
    "#SBATCH --mail-user=thiziri.belkacem@irit.fr\n",
    "\n",
    "# /projets/iris/PROJETS/WEIR/code/3rdYear/MatchZoo_latest/scripts/Letor/train_predict/train/concatenated/tested_configs_fold1\n",
    "\"\"\")\n",
    "for file in os.listdir(\"/home/thiziri/Documents/DOCTORAT/OSIRIM/projets/iris/PROJETS/WEIR/code/3rdYear/MatchZoo_latest/scripts/Letor/train_predict/train/concatenated/tested_configs_fold1/in_cpu\"):\n",
    "    batch.write(\"srun -n1 -N1 in_cpu/\"+file+'\\n')\n",
    "batch.close()"
   ]
  }
 ],
 "metadata": {
  "kernelspec": {
   "display_name": "Python 2",
   "language": "python",
   "name": "python2"
  },
  "language_info": {
   "codemirror_mode": {
    "name": "ipython",
    "version": 2
   },
   "file_extension": ".py",
   "mimetype": "text/x-python",
   "name": "python",
   "nbconvert_exporter": "python",
   "pygments_lexer": "ipython2",
   "version": "2.7.6"
  }
 },
 "nbformat": 4,
 "nbformat_minor": 0
}
