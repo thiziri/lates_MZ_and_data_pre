{
 "cells": [
  {
   "cell_type": "code",
   "execution_count": 1,
   "metadata": {
    "collapsed": true
   },
   "outputs": [],
   "source": [
    "configs = \"/home/thiziri/Documents/DOCTORAT/OSIRIM/projets/iris/PROJETS/WEIR/code/3rdYear/MatchZoo_latest/MatchZoo/examples/trec/config/passages_ranking/concatenated/5/ammm/fold_0\"\n",
    "parameter = \"save_path\"\n",
    "correct = \"/projets/iris/PROJETS/WEIR/code/3rdYear/MatchZoo_latest/MatchZoo/examples/trec/predictions/concatenated/ACCNNM/5/ammm_p5\""
   ]
  },
  {
   "cell_type": "code",
   "execution_count": 7,
   "metadata": {},
   "outputs": [
    {
     "name": "stdout",
     "output_type": "stream",
     "text": [
      "accnnm_p5_ctxtNum10_ctxtEmb40_convDrop0.2_lstmDrop0.0_pool2_attQ_perContext_mergeLevels.config \n {\n  \"metrics\": [\n    \"precision@10\",\n    \"precision@20\",\n    \"ndcg@20\",\n    \"ndcg@10\",\n    \"map\"\n  ],\n  \"global\": {\n    \"test_weights_iters\": 600,\n    \"display_interval\": 10,\n    \"num_iters\": 600,\n    \"learning_rate\": 0.1,\n    \"save_weights_iters\": 50,\n    \"weights_file\": \"/projets/iris/PROJETS/WEIR/code/3rdYear/MatchZoo_latest/MatchZoo/examples/trec/weights/concatenated/ammm_p5/accnnm_letor_ranking_p5_ctxtNum5_ctxtEmb10_convDrop0.0_lstmDrop0.0_pool1_attQ_attD_perContext_attP_mergeLevels.weights\",\n    \"optimizer\": \"adam\",\n    \"model_type\": \"PY\"\n  },\n  \"net_name\": \"accnnm\",\n  \"model\": {\n    \"setting\": {\n      \"lstm_dropout_rate\": 0.0,\n      \"merge_levels\": true,\n      \"text2_attention\": false,\n      \"context_attention\": false,\n      \"text1_attention\": true,\n      \"per_context\": true,\n      \"conv_dropout_rate\": 0.2,\n      \"pool_size\": 2,\n      \"context_embed\": 40\n    },\n    \"model_py\": \"accnnm_merge_levels.A_CCNNM\",\n    \"model_path\": \"./matchzoo/models/\"\n  },\n  \"inputs\": {\n    \"predict\": {\n      \"phase\": \"PREDICT\",\n      \"relation_file\": \"/projets/iris/PROJETS/WEIR/data/passages_ranking_indri/Robust/MZ_data/concatenated/5/fold_0/relation_test.txt\",\n      \"input_type\": \"ListGenerator\",\n      \"batch_list\": 10\n    },\n    \"test\": {\n      \"phase\": \"EVAL\",\n      \"relation_file\": \"/projets/iris/PROJETS/WEIR/data/passages_ranking_indri/Robust/MZ_data/concatenated/5/fold_0/relation_test.txt\",\n      \"input_type\": \"ListGenerator\",\n      \"batch_list\": 10\n    },\n    \"valid\": {\n      \"phase\": \"EVAL\",\n      \"relation_file\": \"/projets/iris/PROJETS/WEIR/data/passages_ranking_indri/Robust/MZ_data/concatenated/5/fold_0/relation_valid.txt\",\n      \"input_type\": \"ListGenerator\",\n      \"batch_list\": 10\n    },\n    \"train\": {\n      \"phase\": \"TRAIN\",\n      \"query_per_iter\": 50,\n      \"batch_size\": 100,\n      \"relation_file\": \"/projets/iris/PROJETS/WEIR/data/passages_ranking_indri/Robust/MZ_data/concatenated/5/fold_0/relation_train.txt\",\n      \"use_iter\": false,\n      \"input_type\": \"PairGenerator\",\n      \"batch_per_iter\": 10\n    },\n    \"share\": {\n      \"context_len\": 5,\n      \"train_embed\": false,\n      \"embed_size\": 300,\n      \"text2_maxlen\": 50,\n      \"vocab_size\": 122100,\n      \"use_dpool\": false,\n      \"text1_maxlen\": 10,\n      \"context_num\": 10,\n      \"text2_corpus\": \"/projets/iris/PROJETS/WEIR/data/passages_ranking_indri/Robust/MZ_data/concatenated/5/fold_0/corpus_preprocessed.txt\",\n      \"target_mode\": \"ranking\",\n      \"text1_corpus\": \"/projets/iris/PROJETS/WEIR/data/passages_ranking_indri/Robust/MZ_data/concatenated/5/fold_0/corpus_preprocessed.txt\",\n      \"embed_path\": \"/projets/iris/PROJETS/WEIR/data/passages_ranking_indri/Robust/MZ_data/concatenated/5/fold_0/embed_glove_300_norm\"\n    }\n  },\n  \"outputs\": {\n    \"predict\": {\n      \"save_format\": \"TREC\",\n      \"save_path\": \"accnnm_p5_ctxtNum10_ctxtEmb40_convDrop0.2_lstmDrop0.0_pool2_attQ_perContext_mergeLevels.txt\"\n    }\n  },\n  \"losses\": [\n    {\n      \"object_params\": {\n        \"margin\": 1.0\n      },\n      \"object_name\": \"rank_hinge_loss\"\n    }\n  ]\n}\n"
     ]
    }
   ],
   "source": [
    "import os\n",
    "import json\n",
    "\n",
    "for file in os.listdir(configs):\n",
    "    config = json.load(open(os.path.join(configs, file)))\n",
    "    config[\"outputs\"][\"predict\"][parameter] = file.replace(\".config\", \".txt\")\n",
    "    res = json.dumps(config, indent=2)\n",
    "    print(file, '\\n', res)\n",
    "    with open(os.path.join(configs, file), 'w') as corr_conf:\n",
    "        corr_conf.write(res)\n",
    "    break"
   ]
  }
 ],
 "metadata": {
  "kernelspec": {
   "display_name": "Python 2",
   "language": "python",
   "name": "python2"
  },
  "language_info": {
   "codemirror_mode": {
    "name": "ipython",
    "version": 2
   },
   "file_extension": ".py",
   "mimetype": "text/x-python",
   "name": "python",
   "nbconvert_exporter": "python",
   "pygments_lexer": "ipython2",
   "version": "2.7.6"
  }
 },
 "nbformat": 4,
 "nbformat_minor": 0
}
